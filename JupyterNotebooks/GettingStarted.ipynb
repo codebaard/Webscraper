{
 "cells": [
  {
   "cell_type": "code",
   "execution_count": 1,
   "metadata": {},
   "outputs": [],
   "source": [
    "# prerequisites\n",
    "import bs4\n",
    "#from urllib.request import urlopen as uReq\n",
    "from requests_html import HTMLSession\n",
    "from requests_html import AsyncHTMLSession\n",
    "from bs4 import BeautifulSoup as soup\n",
    "import asyncio\n",
    "\n",
    "if asyncio.get_event_loop().is_running(): # Only patch if needed (i.e. running in Notebook, Spyder, etc)\n",
    "    import nest_asyncio\n",
    "    nest_asyncio.apply()"
   ]
  },
  {
   "cell_type": "code",
   "execution_count": null,
   "metadata": {},
   "outputs": [],
   "source": [
    "# make the request\n",
    "#url = \"https://pr0gramm.com\"\n",
    "url = \"https://cms.hotpot.codes/AssetShowcase/Index\"\n",
    "#uClient = uReq(url)\n",
    "asession = AsyncHTMLSession()\n",
    "request = await asession.get(url)\n",
    "request.status_code\n",
    "#r.headers['content-type']\n",
    "#r.encoding\n",
    "#r.json()\n",
    "#render js\n",
    "content = asyncio.run(request.html.arender())\n",
    "request.html.text\n",
    "#content.html.text"
   ]
  },
  {
   "cell_type": "code",
   "execution_count": null,
   "metadata": {},
   "outputs": [],
   "source": [
    "#aftermath\n",
    "#page_html = uClient.read()\n",
    "#uClient.close()"
   ]
  },
  {
   "cell_type": "code",
   "execution_count": null,
   "metadata": {},
   "outputs": [],
   "source": [
    "#parse html\n",
    "page_soup = soup(request.html.text, \"html.parser\")\n",
    "page_soup"
   ]
  },
  {
   "cell_type": "code",
   "execution_count": null,
   "metadata": {},
   "outputs": [],
   "source": [
    "#parse all posts\n",
    "posts = page_soup.findAll(\"a\",{\"class\":\"thumb\"})\n",
    "len(posts)"
   ]
  },
  {
   "cell_type": "code",
   "execution_count": 2,
   "metadata": {
    "scrolled": true
   },
   "outputs": [
    {
     "name": "stdout",
     "output_type": "stream",
     "text": [
      "hello\n",
      "world\n"
     ]
    },
    {
     "ename": "TypeError",
     "evalue": "object NoneType can't be used in 'await' expression",
     "output_type": "error",
     "traceback": [
      "\u001b[1;31m---------------------------------------------------------------------------\u001b[0m",
      "\u001b[1;31mTypeError\u001b[0m                                 Traceback (most recent call last)",
      "\u001b[1;32m<ipython-input-2-4185c951686d>\u001b[0m in \u001b[0;36masync-def-wrapper\u001b[1;34m()\u001b[0m\n",
      "\u001b[1;31mTypeError\u001b[0m: object NoneType can't be used in 'await' expression"
     ]
    }
   ],
   "source": [
    "async def fn():\n",
    "  print('hello')\n",
    "  await asyncio.sleep(1)\n",
    "  print('world')\n",
    "\n",
    "await asyncio.run(fn())"
   ]
  },
  {
   "cell_type": "code",
   "execution_count": null,
   "metadata": {},
   "outputs": [],
   "source": []
  }
 ],
 "metadata": {
  "kernelspec": {
   "display_name": "Python 3",
   "language": "python",
   "name": "python3"
  },
  "language_info": {
   "codemirror_mode": {
    "name": "ipython",
    "version": 3
   },
   "file_extension": ".py",
   "mimetype": "text/x-python",
   "name": "python",
   "nbconvert_exporter": "python",
   "pygments_lexer": "ipython3",
   "version": "3.6.12"
  }
 },
 "nbformat": 4,
 "nbformat_minor": 4
}
